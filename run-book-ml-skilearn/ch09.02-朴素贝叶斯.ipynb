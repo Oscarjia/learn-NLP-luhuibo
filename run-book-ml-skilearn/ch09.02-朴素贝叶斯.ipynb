{
 "cells": [
  {
   "cell_type": "code",
   "execution_count": 1,
   "metadata": {},
   "outputs": [],
   "source": [
    "%matplotlib inline\n",
    "import matplotlib.pyplot as plt\n",
    "import numpy as np"
   ]
  },
  {
   "cell_type": "code",
   "execution_count": 2,
   "metadata": {},
   "outputs": [
    {
     "name": "stdout",
     "output_type": "stream",
     "text": [
      "loading train dataset ...\n",
      "summary: 13180 documents in 20 categories.\n",
      "done in 5.580821514129639 seconds\n"
     ]
    }
   ],
   "source": [
    "# 加载训练数据集，datasets的下载地址是：\n",
    "from time import time\n",
    "from sklearn.datasets import load_files\n",
    "\n",
    "print(\"loading train dataset ...\")\n",
    "t = time()\n",
    "news_train = load_files('datasets/mlcomp/379/train')s\n",
    "print(\"summary: {0} documents in {1} categories.\".format(\n",
    "    len(news_train.data), len(news_train.target_names)))\n",
    "print(\"done in {0} seconds\".format(time() - t))"
   ]
  },
  {
   "cell_type": "code",
   "execution_count": 3,
   "metadata": {},
   "outputs": [
    {
     "name": "stdout",
     "output_type": "stream",
     "text": [
      "vectorizing train dataset ...\n",
      "n_samples: 13180, n_features: 130274\n",
      "number of non-zero features in sample [datasets/mlcomp/379/train\\talk.politics.misc\\17860-178992]: 108\n",
      "done in 4.162857532501221 seconds\n"
     ]
    }
   ],
   "source": [
    "# 用Tfidf对训练数据进行向量化\n",
    "from sklearn.feature_extraction.text import TfidfVectorizer\n",
    "\n",
    "print(\"vectorizing train dataset ...\")\n",
    "t = time()\n",
    "vectorizer = TfidfVectorizer(encoding='latin-1')\n",
    "X_train = vectorizer.fit_transform((d for d in news_train.data))\n",
    "print(\"n_samples: %d, n_features: %d\" % X_train.shape)\n",
    "print(\"number of non-zero features in sample [{0}]: {1}\".format(\n",
    "    news_train.filenames[0], X_train[0].getnnz()))\n",
    "print(\"done in {0} seconds\".format(time() - t))"
   ]
  },
  {
   "cell_type": "code",
   "execution_count": 4,
   "metadata": {},
   "outputs": [
    {
     "name": "stdout",
     "output_type": "stream",
     "text": [
      "traning models ...\n"
     ]
    },
    {
     "data": {
      "text/plain": [
       "MultinomialNB(alpha=0.0001, class_prior=None, fit_prior=True)"
      ]
     },
     "execution_count": 4,
     "metadata": {},
     "output_type": "execute_result"
    },
    {
     "name": "stdout",
     "output_type": "stream",
     "text": [
      "train score: 0.9978755690440061\n",
      "done in 0.30916786193847656 seconds\n"
     ]
    }
   ],
   "source": [
    "# sklearn中有高斯贝叶斯，多项式贝叶斯，二分类贝叶斯，这里用的是多项式贝叶斯\n",
    "\n",
    "from sklearn.naive_bayes import MultinomialNB\n",
    "\n",
    "print(\"traning models ...\".format(time() - t))\n",
    "t = time()\n",
    "y_train = news_train.target\n",
    "clf = MultinomialNB(alpha=0.0001)\n",
    "clf.fit(X_train, y_train)\n",
    "train_score = clf.score(X_train, y_train)\n",
    "print(\"train score: {0}\".format(train_score))\n",
    "print(\"done in {0} seconds\".format(time() - t))"
   ]
  },
  {
   "cell_type": "code",
   "execution_count": 5,
   "metadata": {},
   "outputs": [
    {
     "name": "stdout",
     "output_type": "stream",
     "text": [
      "loading test dataset ...\n",
      "summary: 5648 documents in 20 categories.\n",
      "done in 2.57987117767334 seconds\n"
     ]
    }
   ],
   "source": [
    "# 加载训练数据集\n",
    "print(\"loading test dataset ...\")\n",
    "t = time()\n",
    "news_test = load_files('datasets/mlcomp/379/test')\n",
    "print(\"summary: {0} documents in {1} categories.\".format(\n",
    "    len(news_test.data), len(news_test.target_names)))\n",
    "print(\"done in {0} seconds\".format(time() - t))"
   ]
  },
  {
   "cell_type": "code",
   "execution_count": 6,
   "metadata": {},
   "outputs": [
    {
     "name": "stdout",
     "output_type": "stream",
     "text": [
      "vectorizing test dataset ...\n",
      "n_samples: 5648, n_features: 130274\n",
      "number of non-zero features in sample [datasets/mlcomp/379/test\\rec.autos\\7429-103268]: 61\n",
      "done in 1.352380s\n"
     ]
    }
   ],
   "source": [
    "# 用Tfidf对测试数据进行向量化\n",
    "print(\"vectorizing test dataset ...\")\n",
    "t = time()\n",
    "X_test = vectorizer.transform((d for d in news_test.data))\n",
    "y_test = news_test.target\n",
    "print(\"n_samples: %d, n_features: %d\" % X_test.shape)\n",
    "print(\"number of non-zero features in sample [{0}]: {1}\".format(\n",
    "    news_test.filenames[0], X_test[0].getnnz()))\n",
    "print(\"done in %fs\" % (time() - t))"
   ]
  },
  {
   "cell_type": "code",
   "execution_count": 7,
   "metadata": {},
   "outputs": [
    {
     "name": "stdout",
     "output_type": "stream",
     "text": [
      "predict: datasets/mlcomp/379/test\\rec.autos\\7429-103268 is in category rec.autos\n",
      "actually: datasets/mlcomp/379/test\\rec.autos\\7429-103268 is in category rec.autos\n"
     ]
    }
   ],
   "source": [
    "# 喂数据，进行训练\n",
    "pred = clf.predict(X_test[0])\n",
    "print(\"predict: {0} is in category {1}\".format(\n",
    "    news_test.filenames[0], news_test.target_names[pred[0]]))\n",
    "print(\"actually: {0} is in category {1}\".format(\n",
    "    news_test.filenames[0], news_test.target_names[news_test.target[0]]))"
   ]
  },
  {
   "cell_type": "code",
   "execution_count": 8,
   "metadata": {},
   "outputs": [
    {
     "name": "stdout",
     "output_type": "stream",
     "text": [
      "predicting test dataset ...\n",
      "done in 0.050861s\n"
     ]
    }
   ],
   "source": [
    "print(\"predicting test dataset ...\")\n",
    "t = time()\n",
    "pred = clf.predict(X_test)\n",
    "print(\"done in %fs\" % (time() - t))"
   ]
  },
  {
   "cell_type": "code",
   "execution_count": 9,
   "metadata": {},
   "outputs": [],
   "source": [
    "# 查看分类报告"
   ]
  },
  {
   "cell_type": "code",
   "execution_count": 10,
   "metadata": {},
   "outputs": [
    {
     "name": "stdout",
     "output_type": "stream",
     "text": [
      "classification report on test set for classifier:\n",
      "MultinomialNB(alpha=0.0001, class_prior=None, fit_prior=True)\n",
      "                          precision    recall  f1-score   support\n",
      "\n",
      "             alt.atheism       0.90      0.91      0.91       245\n",
      "           comp.graphics       0.80      0.90      0.85       298\n",
      " comp.os.ms-windows.misc       0.82      0.79      0.80       292\n",
      "comp.sys.ibm.pc.hardware       0.81      0.80      0.81       301\n",
      "   comp.sys.mac.hardware       0.90      0.91      0.91       256\n",
      "          comp.windows.x       0.88      0.88      0.88       297\n",
      "            misc.forsale       0.87      0.81      0.84       290\n",
      "               rec.autos       0.92      0.93      0.92       324\n",
      "         rec.motorcycles       0.96      0.96      0.96       294\n",
      "      rec.sport.baseball       0.97      0.94      0.96       315\n",
      "        rec.sport.hockey       0.96      0.99      0.98       302\n",
      "               sci.crypt       0.95      0.96      0.95       297\n",
      "         sci.electronics       0.91      0.85      0.88       313\n",
      "                 sci.med       0.96      0.96      0.96       277\n",
      "               sci.space       0.94      0.97      0.96       305\n",
      "  soc.religion.christian       0.93      0.96      0.94       293\n",
      "      talk.politics.guns       0.91      0.96      0.93       246\n",
      "   talk.politics.mideast       0.96      0.98      0.97       296\n",
      "      talk.politics.misc       0.90      0.90      0.90       236\n",
      "      talk.religion.misc       0.89      0.78      0.83       171\n",
      "\n",
      "                accuracy                           0.91      5648\n",
      "               macro avg       0.91      0.91      0.91      5648\n",
      "            weighted avg       0.91      0.91      0.91      5648\n",
      "\n"
     ]
    }
   ],
   "source": [
    "from sklearn.metrics import classification_report\n",
    "\n",
    "print(\"classification report on test set for classifier:\")\n",
    "print(clf)\n",
    "print(classification_report(y_test, pred,\n",
    "                            target_names=news_test.target_names))"
   ]
  },
  {
   "cell_type": "code",
   "execution_count": 11,
   "metadata": {},
   "outputs": [
    {
     "name": "stdout",
     "output_type": "stream",
     "text": [
      "confusion matrix:\n",
      "[[224   0   0   0   0   0   0   0   0   0   0   0   0   0   2   5   0   0\n",
      "    1  13]\n",
      " [  1 267   5   5   2   8   1   1   0   0   0   2   3   2   1   0   0   0\n",
      "    0   0]\n",
      " [  1  13 230  24   4  10   5   0   0   0   0   1   2   1   0   0   0   0\n",
      "    1   0]\n",
      " [  0   9  21 242   7   2  10   1   0   0   1   1   7   0   0   0   0   0\n",
      "    0   0]\n",
      " [  0   1   5   5 233   2   2   2   1   0   0   3   1   0   1   0   0   0\n",
      "    0   0]\n",
      " [  0  20   6   3   1 260   0   0   0   2   0   1   0   0   2   0   2   0\n",
      "    0   0]\n",
      " [  0   2   5  12   3   1 235  10   2   3   1   0   7   0   2   0   2   1\n",
      "    4   0]\n",
      " [  0   1   0   0   1   0   8 300   4   1   0   0   1   2   3   0   2   0\n",
      "    1   0]\n",
      " [  0   1   0   0   0   2   2   3 283   0   0   0   1   0   0   0   0   0\n",
      "    1   1]\n",
      " [  0   1   1   0   1   2   1   2   0 297   8   1   0   1   0   0   0   0\n",
      "    0   0]\n",
      " [  0   0   0   0   0   0   0   0   2   2 298   0   0   0   0   0   0   0\n",
      "    0   0]\n",
      " [  0   1   2   0   0   1   1   0   0   0   0 284   2   1   0   0   2   1\n",
      "    2   0]\n",
      " [  0  11   3   5   4   2   4   5   1   1   0   4 266   1   4   0   1   0\n",
      "    1   0]\n",
      " [  1   1   0   1   0   2   1   0   0   0   0   0   1 266   2   1   0   0\n",
      "    1   0]\n",
      " [  0   3   0   0   1   1   0   0   0   0   0   1   0   1 296   0   1   0\n",
      "    1   0]\n",
      " [  3   1   0   1   0   0   0   0   0   0   1   0   0   2   1 280   0   1\n",
      "    1   2]\n",
      " [  1   0   2   0   0   0   0   0   1   0   0   0   0   0   0   0 236   1\n",
      "    4   1]\n",
      " [  1   0   0   0   0   1   0   0   0   0   0   0   0   0   0   3   0 290\n",
      "    1   0]\n",
      " [  2   1   0   0   1   1   0   1   0   0   0   0   0   0   0   1  10   7\n",
      "  212   0]\n",
      " [ 16   0   0   0   0   0   0   0   0   0   0   0   0   0   0  12   4   1\n",
      "    4 134]]\n"
     ]
    }
   ],
   "source": [
    "# 查看混淆矩阵的数据\n",
    "from sklearn.metrics import confusion_matrix\n",
    "\n",
    "cm = confusion_matrix(y_test, pred)\n",
    "print(\"confusion matrix:\")\n",
    "print(cm)"
   ]
  },
  {
   "cell_type": "code",
   "execution_count": 12,
   "metadata": {},
   "outputs": [
    {
     "data": {
      "image/png": "[encoded data removed]",
      "text/plain": [
       "<Figure size 1152x1152 with 3 Axes>"
      ]
     },
     "metadata": {
      "needs_background": "light"
     },
     "output_type": "display_data"
    }
   ],
   "source": [
    "# Show confusion matrix\n",
    "plt.figure(figsize=(8, 8), dpi=144)\n",
    "plt.title('Confusion matrix of the classifier')\n",
    "ax = plt.gca()                                  \n",
    "ax.spines['right'].set_color('none')            \n",
    "ax.spines['top'].set_color('none')\n",
    "ax.spines['bottom'].set_color('none')\n",
    "ax.spines['left'].set_color('none')\n",
    "ax.xaxis.set_ticks_position('none')\n",
    "ax.yaxis.set_ticks_position('none')\n",
    "ax.set_xticklabels([])\n",
    "ax.set_yticklabels([])\n",
    "plt.matshow(cm, fignum=1, cmap='gray')\n",
    "plt.colorbar();"
   ]
  },
  {
   "cell_type": "code",
   "execution_count": null,
   "metadata": {},
   "outputs": [],
   "source": [
    "参考地址：\n",
    "Classification of text documents: 20-Newsgroup Dataset\n",
    "    https://www.cs.bgu.ac.il/~elhadad/nlp17/Classification_20Groups_Sklearn.html"
   ]
  },
  {
   "cell_type": "markdown",
   "metadata": {},
   "source": [
    "## Let us now benchmark different classifiers:"
   ]
  },
  {
   "cell_type": "code",
   "execution_count": 22,
   "metadata": {},
   "outputs": [],
   "source": [
    "# 将上面的写成函数\n",
    "def benchmark(clf_class, params, name):\n",
    "    print(\"parameters:\", params)\n",
    "    t0 = time()\n",
    "    clf = clf_class(**params).fit(X_train, y_train)\n",
    "    print(\"done in %fs\" % (time() - t0))\n",
    "\n",
    "    if hasattr(clf, 'coef_'):\n",
    "        print(\"Percentage of non zeros coef: %f\" % (np.mean(clf.coef_ != 0) * 100))\n",
    "    print(\"Predicting the outcomes of the testing set\")\n",
    "    t0 = time()\n",
    "    pred = clf.predict(X_test)\n",
    "    print(\"done in %fs\" % (time() - t0))\n",
    "\n",
    "    print(\"Classification report on test set for classifier:\")\n",
    "    print(clf)\n",
    "    print()\n",
    "    print(classification_report(y_test, pred, target_names=news_test.target_names))\n",
    "\n",
    "    cm = confusion_matrix(y_test, pred)\n",
    "    print(\"Confusion matrix:\")\n",
    "    print(cm)\n",
    "\n",
    "    # Show confusion matrix\n",
    "    plt.matshow(cm)\n",
    "    plt.title('Confusion matrix of the %s classifier' % name)\n",
    "    plt.colorbar()"
   ]
  },
  {
   "cell_type": "code",
   "execution_count": 23,
   "metadata": {},
   "outputs": [
    {
     "name": "stdout",
     "output_type": "stream",
     "text": [
      "Testbenching a MultinomialNB classifier...\n",
      "parameters: {'alpha': 0.01}\n",
      "done in 0.199464s\n",
      "Percentage of non zeros coef: 100.000000\n",
      "Predicting the outcomes of the testing set\n",
      "done in 0.041887s\n",
      "Classification report on test set for classifier:\n",
      "MultinomialNB(alpha=0.01, class_prior=None, fit_prior=True)\n",
      "\n",
      "                          precision    recall  f1-score   support\n",
      "\n",
      "             alt.atheism       0.90      0.92      0.91       245\n",
      "           comp.graphics       0.81      0.89      0.85       298\n",
      " comp.os.ms-windows.misc       0.87      0.83      0.85       292\n",
      "comp.sys.ibm.pc.hardware       0.82      0.83      0.83       301\n",
      "   comp.sys.mac.hardware       0.90      0.92      0.91       256\n",
      "          comp.windows.x       0.90      0.89      0.89       297\n",
      "            misc.forsale       0.90      0.84      0.87       290\n",
      "               rec.autos       0.93      0.94      0.93       324\n",
      "         rec.motorcycles       0.98      0.97      0.97       294\n",
      "      rec.sport.baseball       0.97      0.97      0.97       315\n",
      "        rec.sport.hockey       0.97      0.99      0.98       302\n",
      "               sci.crypt       0.95      0.95      0.95       297\n",
      "         sci.electronics       0.90      0.86      0.88       313\n",
      "                 sci.med       0.97      0.96      0.97       277\n",
      "               sci.space       0.95      0.97      0.96       305\n",
      "  soc.religion.christian       0.91      0.97      0.94       293\n",
      "      talk.politics.guns       0.89      0.96      0.93       246\n",
      "   talk.politics.mideast       0.95      0.98      0.97       296\n",
      "      talk.politics.misc       0.93      0.87      0.90       236\n",
      "      talk.religion.misc       0.92      0.74      0.82       171\n",
      "\n",
      "                accuracy                           0.92      5648\n",
      "               macro avg       0.92      0.91      0.91      5648\n",
      "            weighted avg       0.92      0.92      0.92      5648\n",
      "\n",
      "Confusion matrix:\n",
      "[[226   0   0   0   0   0   0   0   0   1   0   0   0   0   2   7   0   0\n",
      "    0   9]\n",
      " [  1 266   7   4   1   6   2   2   0   0   0   3   4   1   1   0   0   0\n",
      "    0   0]\n",
      " [  0  11 243  22   4   7   1   0   0   0   0   1   2   0   0   0   0   0\n",
      "    1   0]\n",
      " [  0   7  12 250   8   4   9   0   0   1   1   0   9   0   0   0   0   0\n",
      "    0   0]\n",
      " [  0   3   3   5 235   2   3   1   0   0   0   2   1   0   1   0   0   0\n",
      "    0   0]\n",
      " [  0  19   5   3   2 263   0   0   0   0   0   1   0   1   1   0   2   0\n",
      "    0   0]\n",
      " [  0   1   4   9   3   1 243   9   2   3   1   0   8   0   0   0   2   2\n",
      "    2   0]\n",
      " [  0   0   0   1   1   0   5 304   1   2   0   0   3   2   3   1   1   0\n",
      "    0   0]\n",
      " [  0   0   0   0   0   2   2   3 285   0   0   0   1   0   0   0   0   0\n",
      "    0   1]\n",
      " [  0   1   0   0   0   1   1   3   0 304   5   0   0   0   0   0   0   0\n",
      "    0   0]\n",
      " [  0   0   0   0   0   0   0   0   1   2 299   0   0   0   0   0   0   0\n",
      "    0   0]\n",
      " [  0   2   2   1   0   1   2   0   0   0   0 283   1   0   0   0   2   1\n",
      "    2   0]\n",
      " [  0  11   1   9   3   1   3   5   1   0   1   4 270   1   3   0   0   0\n",
      "    0   0]\n",
      " [  0   2   0   1   1   1   0   0   0   0   0   1   0 266   2   1   0   0\n",
      "    2   0]\n",
      " [  0   2   0   0   1   0   0   0   0   0   0   2   1   1 296   0   1   1\n",
      "    0   0]\n",
      " [  3   1   0   0   0   0   0   0   0   0   1   0   0   2   0 283   0   1\n",
      "    2   0]\n",
      " [  1   0   1   0   0   0   0   0   1   0   0   1   0   0   0   0 237   1\n",
      "    3   1]\n",
      " [  1   0   0   0   0   1   0   0   0   0   0   0   0   0   0   3   0 291\n",
      "    0   0]\n",
      " [  1   1   0   0   1   1   0   1   0   0   0   0   0   0   1   1  17   6\n",
      "  206   0]\n",
      " [ 18   1   0   0   0   0   0   0   0   1   0   0   0   0   0  14   4   2\n",
      "    4 127]]\n"
     ]
    },
    {
     "data": {
      "image/png": "[encoded data removed]",
      "text/plain": [
       "<Figure size 288x288 with 2 Axes>"
      ]
     },
     "metadata": {
      "needs_background": "light"
     },
     "output_type": "display_data"
    }
   ],
   "source": [
    "print(\"Testbenching a MultinomialNB classifier...\")\n",
    "parameters = {'alpha': 0.01}\n",
    "\n",
    "benchmark(MultinomialNB, parameters, 'MultinomialNB')"
   ]
  },
  {
   "cell_type": "code",
   "execution_count": null,
   "metadata": {},
   "outputs": [],
   "source": []
  }
 ],
 "metadata": {
  "kernelspec": {
   "display_name": "Python 3",
   "language": "python",
   "name": "python3"
  },
  "language_info": {
   "codemirror_mode": {
    "name": "ipython",
    "version": 3
   },
   "file_extension": ".py",
   "mimetype": "text/x-python",
   "name": "python",
   "nbconvert_exporter": "python",
   "pygments_lexer": "ipython3",
   "version": "3.6.5"
  }
 },
 "nbformat": 4,
 "nbformat_minor": 1
}
