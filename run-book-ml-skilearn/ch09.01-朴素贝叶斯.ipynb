{
 "cells": [
  {
   "cell_type": "code",
   "execution_count": 1,
   "metadata": {
    "pycharm": {
     "is_executing": false
    }
   },
   "outputs": [],
   "source": [
    "%matplotlib inline\n",
    "import matplotlib.pyplot as plt\n",
    "import numpy as np"
   ]
  },
  {
   "cell_type": "code",
   "execution_count": 2,
   "metadata": {},
   "outputs": [
    {
     "data": {
      "text/plain": [
       "<Figure size 1440x432 with 0 Axes>"
      ]
     },
     "execution_count": 2,
     "metadata": {},
     "output_type": "execute_result"
    },
    {
     "data": {
      "text/plain": [
       "<matplotlib.axes._subplots.AxesSubplot at 0x147bd6464a8>"
      ]
     },
     "execution_count": 2,
     "metadata": {},
     "output_type": "execute_result"
    },
    {
     "data": {
      "text/plain": [
       "Text(0.5, 1.0, 'Gaussian Distribution for $\\\\mu=1, \\\\sigma=0.1$')"
      ]
     },
     "execution_count": 2,
     "metadata": {},
     "output_type": "execute_result"
    },
    {
     "data": {
      "text/plain": [
       "(0, 2)"
      ]
     },
     "execution_count": 2,
     "metadata": {},
     "output_type": "execute_result"
    },
    {
     "data": {
      "text/plain": [
       "(0, 5)"
      ]
     },
     "execution_count": 2,
     "metadata": {},
     "output_type": "execute_result"
    },
    {
     "data": {
      "text/plain": [
       "[<matplotlib.lines.Line2D at 0x147bf69bac8>]"
      ]
     },
     "execution_count": 2,
     "metadata": {},
     "output_type": "execute_result"
    },
    {
     "data": {
      "text/plain": [
       "<matplotlib.axes._subplots.AxesSubplot at 0x147bf6be198>"
      ]
     },
     "execution_count": 2,
     "metadata": {},
     "output_type": "execute_result"
    },
    {
     "data": {
      "text/plain": [
       "Text(0.5, 1.0, 'Gaussian Distribution for $\\\\mu=1, \\\\sigma=0.3$')"
      ]
     },
     "execution_count": 2,
     "metadata": {},
     "output_type": "execute_result"
    },
    {
     "data": {
      "text/plain": [
       "(0, 2)"
      ]
     },
     "execution_count": 2,
     "metadata": {},
     "output_type": "execute_result"
    },
    {
     "data": {
      "text/plain": [
       "(0, 5)"
      ]
     },
     "execution_count": 2,
     "metadata": {},
     "output_type": "execute_result"
    },
    {
     "data": {
      "text/plain": [
       "[<matplotlib.lines.Line2D at 0x147bf6f1cc0>]"
      ]
     },
     "execution_count": 2,
     "metadata": {},
     "output_type": "execute_result"
    },
    {
     "data": {
      "image/png": "[encoded data removed]",
      "text/plain": [
       "<Figure size 1440x432 with 2 Axes>"
      ]
     },
     "metadata": {
      "needs_background": "light"
     },
     "output_type": "display_data"
    }
   ],
   "source": [
    "def normal_distribution(x, mean, sigma):\n",
    "    return (1 / (np.sqrt(2 * np.pi) * sigma)) * np.exp(- (x - mean)**2 / (2 * sigma**2))\n",
    "\n",
    "x = np.linspace(0, 6, 500)\n",
    "mean1 = 1\n",
    "mean2 = 1\n",
    "sigma1 = 0.1\n",
    "sigma2 = 0.3\n",
    "\n",
    "plt.figure(figsize=(10, 3), dpi=144)\n",
    "\n",
    "# sub plot 1\n",
    "plt.subplot(1, 2, 1)\n",
    "plt.title('Gaussian Distribution for $\\mu={0}, \\sigma={1}$'.format(mean1, sigma1))\n",
    "\n",
    "plt.xlim(0, 2)\n",
    "plt.ylim(0, 5)\n",
    "ax = plt.gca()                                  # gca 代表当前坐标轴，即 'get current axis'\n",
    "ax.spines['right'].set_color('none')            # 隐藏坐标轴\n",
    "ax.spines['top'].set_color('none')\n",
    "\n",
    "plt.plot(x, normal_distribution(x, mean1, sigma1), 'r-')\n",
    "\n",
    "# sub plot 2\n",
    "plt.subplot(1, 2, 2)\n",
    "plt.title('Gaussian Distribution for $\\mu={0}, \\sigma={1}$'.format(mean2, sigma2))\n",
    "\n",
    "plt.xlim(0, 2)\n",
    "plt.ylim(0, 5)\n",
    "ax = plt.gca()                                  # gca 代表当前坐标轴，即 'get current axis'\n",
    "ax.spines['right'].set_color('none')            # 隐藏坐标轴\n",
    "ax.spines['top'].set_color('none')\n",
    "\n",
    "plt.plot(x, normal_distribution(x, mean2, sigma2), 'r-')"
   ]
  },
  {
   "cell_type": "code",
   "execution_count": 3,
   "metadata": {},
   "outputs": [
    {
     "data": {
      "text/plain": [
       "1.5788861867228534"
      ]
     },
     "execution_count": 3,
     "metadata": {},
     "output_type": "execute_result"
    }
   ],
   "source": [
    "normal_distribution(6, 5.855, np.sqrt(3.5033e-02))"
   ]
  },
  {
   "cell_type": "code",
   "execution_count": null,
   "metadata": {},
   "outputs": [],
   "source": []
  }
 ],
 "metadata": {
  "kernelspec": {
   "display_name": "Python 3",
   "language": "python",
   "name": "python3"
  },
  "language_info": {
   "codemirror_mode": {
    "name": "ipython",
    "version": 3
   },
   "file_extension": ".py",
   "mimetype": "text/x-python",
   "name": "python",
   "nbconvert_exporter": "python",
   "pygments_lexer": "ipython3",
   "version": "3.6.5"
  }
 },
 "nbformat": 4,
 "nbformat_minor": 1
}
